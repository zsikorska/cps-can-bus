{
 "cells": [
  {
   "cell_type": "markdown",
   "metadata": {},
   "source": [
    "#### Intrusion detection system using LSTM"
   ]
  },
  {
   "cell_type": "code",
   "execution_count": 274,
   "metadata": {},
   "outputs": [],
   "source": [
    "import numpy as np\n",
    "import pandas as pd\n",
    "import matplotlib.pyplot as plt\n",
    "plt.style.use('default')\n",
    "from sklearn.metrics import accuracy_score, precision_score, recall_score, f1_score\n",
    "from sklearn.model_selection import train_test_split\n",
    "from sklearn.preprocessing import LabelEncoder\n",
    "\n",
    "import torch\n",
    "import torch.nn as nn\n",
    "import torch.optim as optim\n",
    "from torch.utils.data import DataLoader\n",
    "from torch.utils.data import Dataset"
   ]
  },
  {
   "cell_type": "code",
   "execution_count": 275,
   "metadata": {},
   "outputs": [],
   "source": [
    "sonata_data = pd.read_csv('sonata_data.csv')\n",
    "soul_data = pd.read_csv('soul_data.csv')\n",
    "spark_data = pd.read_csv('spark_data.csv')"
   ]
  },
  {
   "cell_type": "code",
   "execution_count": 276,
   "metadata": {},
   "outputs": [
    {
     "name": "stdout",
     "output_type": "stream",
     "text": [
      "Sonata shape:  (535041, 12)\n",
      "Soul shape:  (797843, 12)\n",
      "Spark shape:  (402956, 12)\n"
     ]
    }
   ],
   "source": [
    "print(\"Sonata shape: \", sonata_data.shape)\n",
    "print(\"Soul shape: \", soul_data.shape)\n",
    "print(\"Spark shape: \", spark_data.shape)"
   ]
  },
  {
   "cell_type": "code",
   "execution_count": 277,
   "metadata": {},
   "outputs": [
    {
     "data": {
      "text/html": [
       "<div>\n",
       "<style scoped>\n",
       "    .dataframe tbody tr th:only-of-type {\n",
       "        vertical-align: middle;\n",
       "    }\n",
       "\n",
       "    .dataframe tbody tr th {\n",
       "        vertical-align: top;\n",
       "    }\n",
       "\n",
       "    .dataframe thead th {\n",
       "        text-align: right;\n",
       "    }\n",
       "</style>\n",
       "<table border=\"1\" class=\"dataframe\">\n",
       "  <thead>\n",
       "    <tr style=\"text-align: right;\">\n",
       "      <th></th>\n",
       "      <th>timestamp</th>\n",
       "      <th>canId</th>\n",
       "      <th>dlc</th>\n",
       "      <th>data0</th>\n",
       "      <th>data1</th>\n",
       "      <th>data2</th>\n",
       "      <th>data3</th>\n",
       "      <th>data4</th>\n",
       "      <th>data5</th>\n",
       "      <th>data6</th>\n",
       "      <th>data7</th>\n",
       "      <th>flag</th>\n",
       "    </tr>\n",
       "  </thead>\n",
       "  <tbody>\n",
       "    <tr>\n",
       "      <th>0</th>\n",
       "      <td>1.513920e+09</td>\n",
       "      <td>04C1</td>\n",
       "      <td>8</td>\n",
       "      <td>00</td>\n",
       "      <td>CC</td>\n",
       "      <td>80</td>\n",
       "      <td>5E</td>\n",
       "      <td>52</td>\n",
       "      <td>08</td>\n",
       "      <td>00</td>\n",
       "      <td>00</td>\n",
       "      <td>R</td>\n",
       "    </tr>\n",
       "    <tr>\n",
       "      <th>1</th>\n",
       "      <td>1.513920e+09</td>\n",
       "      <td>04C7</td>\n",
       "      <td>3</td>\n",
       "      <td>10</td>\n",
       "      <td>00</td>\n",
       "      <td>00</td>\n",
       "      <td>-1</td>\n",
       "      <td>-1</td>\n",
       "      <td>-1</td>\n",
       "      <td>-1</td>\n",
       "      <td>-1</td>\n",
       "      <td>R</td>\n",
       "    </tr>\n",
       "    <tr>\n",
       "      <th>2</th>\n",
       "      <td>1.513920e+09</td>\n",
       "      <td>01E1</td>\n",
       "      <td>7</td>\n",
       "      <td>00</td>\n",
       "      <td>00</td>\n",
       "      <td>00</td>\n",
       "      <td>00</td>\n",
       "      <td>00</td>\n",
       "      <td>00</td>\n",
       "      <td>00</td>\n",
       "      <td>-1</td>\n",
       "      <td>R</td>\n",
       "    </tr>\n",
       "    <tr>\n",
       "      <th>3</th>\n",
       "      <td>1.513920e+09</td>\n",
       "      <td>00C1</td>\n",
       "      <td>8</td>\n",
       "      <td>00</td>\n",
       "      <td>F9</td>\n",
       "      <td>05</td>\n",
       "      <td>41</td>\n",
       "      <td>02</td>\n",
       "      <td>85</td>\n",
       "      <td>8B</td>\n",
       "      <td>91</td>\n",
       "      <td>R</td>\n",
       "    </tr>\n",
       "    <tr>\n",
       "      <th>4</th>\n",
       "      <td>1.513920e+09</td>\n",
       "      <td>00C5</td>\n",
       "      <td>8</td>\n",
       "      <td>03</td>\n",
       "      <td>52</td>\n",
       "      <td>0F</td>\n",
       "      <td>1D</td>\n",
       "      <td>C3</td>\n",
       "      <td>F4</td>\n",
       "      <td>03</td>\n",
       "      <td>D4</td>\n",
       "      <td>R</td>\n",
       "    </tr>\n",
       "  </tbody>\n",
       "</table>\n",
       "</div>"
      ],
      "text/plain": [
       "      timestamp canId  dlc data0 data1 data2 data3 data4 data5 data6 data7  \\\n",
       "0  1.513920e+09  04C1    8    00    CC    80    5E    52    08    00    00   \n",
       "1  1.513920e+09  04C7    3    10    00    00    -1    -1    -1    -1    -1   \n",
       "2  1.513920e+09  01E1    7    00    00    00    00    00    00    00    -1   \n",
       "3  1.513920e+09  00C1    8    00    F9    05    41    02    85    8B    91   \n",
       "4  1.513920e+09  00C5    8    03    52    0F    1D    C3    F4    03    D4   \n",
       "\n",
       "  flag  \n",
       "0    R  \n",
       "1    R  \n",
       "2    R  \n",
       "3    R  \n",
       "4    R  "
      ]
     },
     "execution_count": 277,
     "metadata": {},
     "output_type": "execute_result"
    }
   ],
   "source": [
    "spark_data.head()"
   ]
  },
  {
   "cell_type": "code",
   "execution_count": 278,
   "metadata": {},
   "outputs": [
    {
     "data": {
      "text/html": [
       "<div>\n",
       "<style scoped>\n",
       "    .dataframe tbody tr th:only-of-type {\n",
       "        vertical-align: middle;\n",
       "    }\n",
       "\n",
       "    .dataframe tbody tr th {\n",
       "        vertical-align: top;\n",
       "    }\n",
       "\n",
       "    .dataframe thead th {\n",
       "        text-align: right;\n",
       "    }\n",
       "</style>\n",
       "<table border=\"1\" class=\"dataframe\">\n",
       "  <thead>\n",
       "    <tr style=\"text-align: right;\">\n",
       "      <th></th>\n",
       "      <th>Sonata</th>\n",
       "      <th>Soul</th>\n",
       "      <th>Spark</th>\n",
       "    </tr>\n",
       "    <tr>\n",
       "      <th>flag</th>\n",
       "      <th></th>\n",
       "      <th></th>\n",
       "      <th></th>\n",
       "    </tr>\n",
       "  </thead>\n",
       "  <tbody>\n",
       "    <tr>\n",
       "      <th>R</th>\n",
       "      <td>468527</td>\n",
       "      <td>717489</td>\n",
       "      <td>366510</td>\n",
       "    </tr>\n",
       "    <tr>\n",
       "      <th>T</th>\n",
       "      <td>66514</td>\n",
       "      <td>80354</td>\n",
       "      <td>36446</td>\n",
       "    </tr>\n",
       "  </tbody>\n",
       "</table>\n",
       "</div>"
      ],
      "text/plain": [
       "      Sonata    Soul   Spark\n",
       "flag                        \n",
       "R     468527  717489  366510\n",
       "T      66514   80354   36446"
      ]
     },
     "execution_count": 278,
     "metadata": {},
     "output_type": "execute_result"
    }
   ],
   "source": [
    "flag_values = pd.DataFrame(columns=['Sonata', 'Soul', 'Spark'])\n",
    "flag_values['Sonata'] = sonata_data['flag'].value_counts()\n",
    "flag_values['Soul'] = soul_data['flag'].value_counts()\n",
    "flag_values['Spark'] = spark_data['flag'].value_counts()\n",
    "flag_values"
   ]
  },
  {
   "cell_type": "code",
   "execution_count": 279,
   "metadata": {},
   "outputs": [
    {
     "data": {
      "text/html": [
       "<div>\n",
       "<style scoped>\n",
       "    .dataframe tbody tr th:only-of-type {\n",
       "        vertical-align: middle;\n",
       "    }\n",
       "\n",
       "    .dataframe tbody tr th {\n",
       "        vertical-align: top;\n",
       "    }\n",
       "\n",
       "    .dataframe thead th {\n",
       "        text-align: right;\n",
       "    }\n",
       "</style>\n",
       "<table border=\"1\" class=\"dataframe\">\n",
       "  <thead>\n",
       "    <tr style=\"text-align: right;\">\n",
       "      <th></th>\n",
       "      <th>canId</th>\n",
       "      <th>dlc</th>\n",
       "      <th>data0</th>\n",
       "      <th>data1</th>\n",
       "      <th>data2</th>\n",
       "      <th>data3</th>\n",
       "      <th>data4</th>\n",
       "      <th>data5</th>\n",
       "      <th>data6</th>\n",
       "      <th>data7</th>\n",
       "      <th>flag</th>\n",
       "    </tr>\n",
       "  </thead>\n",
       "  <tbody>\n",
       "    <tr>\n",
       "      <th>0</th>\n",
       "      <td>04C1</td>\n",
       "      <td>8</td>\n",
       "      <td>00</td>\n",
       "      <td>CC</td>\n",
       "      <td>80</td>\n",
       "      <td>5E</td>\n",
       "      <td>52</td>\n",
       "      <td>08</td>\n",
       "      <td>00</td>\n",
       "      <td>00</td>\n",
       "      <td>R</td>\n",
       "    </tr>\n",
       "    <tr>\n",
       "      <th>1</th>\n",
       "      <td>04C7</td>\n",
       "      <td>3</td>\n",
       "      <td>10</td>\n",
       "      <td>00</td>\n",
       "      <td>00</td>\n",
       "      <td>-1</td>\n",
       "      <td>-1</td>\n",
       "      <td>-1</td>\n",
       "      <td>-1</td>\n",
       "      <td>-1</td>\n",
       "      <td>R</td>\n",
       "    </tr>\n",
       "    <tr>\n",
       "      <th>2</th>\n",
       "      <td>01E1</td>\n",
       "      <td>7</td>\n",
       "      <td>00</td>\n",
       "      <td>00</td>\n",
       "      <td>00</td>\n",
       "      <td>00</td>\n",
       "      <td>00</td>\n",
       "      <td>00</td>\n",
       "      <td>00</td>\n",
       "      <td>-1</td>\n",
       "      <td>R</td>\n",
       "    </tr>\n",
       "    <tr>\n",
       "      <th>3</th>\n",
       "      <td>00C1</td>\n",
       "      <td>8</td>\n",
       "      <td>00</td>\n",
       "      <td>F9</td>\n",
       "      <td>05</td>\n",
       "      <td>41</td>\n",
       "      <td>02</td>\n",
       "      <td>85</td>\n",
       "      <td>8B</td>\n",
       "      <td>91</td>\n",
       "      <td>R</td>\n",
       "    </tr>\n",
       "    <tr>\n",
       "      <th>4</th>\n",
       "      <td>00C5</td>\n",
       "      <td>8</td>\n",
       "      <td>03</td>\n",
       "      <td>52</td>\n",
       "      <td>0F</td>\n",
       "      <td>1D</td>\n",
       "      <td>C3</td>\n",
       "      <td>F4</td>\n",
       "      <td>03</td>\n",
       "      <td>D4</td>\n",
       "      <td>R</td>\n",
       "    </tr>\n",
       "  </tbody>\n",
       "</table>\n",
       "</div>"
      ],
      "text/plain": [
       "  canId  dlc data0 data1 data2 data3 data4 data5 data6 data7 flag\n",
       "0  04C1    8    00    CC    80    5E    52    08    00    00    R\n",
       "1  04C7    3    10    00    00    -1    -1    -1    -1    -1    R\n",
       "2  01E1    7    00    00    00    00    00    00    00    -1    R\n",
       "3  00C1    8    00    F9    05    41    02    85    8B    91    R\n",
       "4  00C5    8    03    52    0F    1D    C3    F4    03    D4    R"
      ]
     },
     "execution_count": 279,
     "metadata": {},
     "output_type": "execute_result"
    }
   ],
   "source": [
    "sonata_data = sonata_data.drop(columns=['timestamp'])\n",
    "soul_data = soul_data.drop(columns=['timestamp'])\n",
    "spark_data = spark_data.drop(columns=['timestamp'])\n",
    "spark_data.head()"
   ]
  },
  {
   "cell_type": "code",
   "execution_count": 280,
   "metadata": {},
   "outputs": [],
   "source": [
    "X_sonata = sonata_data.drop(columns=['flag'])\n",
    "y_sonata = sonata_data['flag']\n",
    "\n",
    "X_soul = soul_data.drop(columns=['flag'])\n",
    "y_soul = soul_data['flag']\n",
    "\n",
    "X_spark = spark_data.drop(columns=['flag'])\n",
    "y_spark = spark_data['flag']"
   ]
  },
  {
   "cell_type": "code",
   "execution_count": 281,
   "metadata": {},
   "outputs": [
    {
     "data": {
      "text/html": [
       "<div>\n",
       "<style scoped>\n",
       "    .dataframe tbody tr th:only-of-type {\n",
       "        vertical-align: middle;\n",
       "    }\n",
       "\n",
       "    .dataframe tbody tr th {\n",
       "        vertical-align: top;\n",
       "    }\n",
       "\n",
       "    .dataframe thead th {\n",
       "        text-align: right;\n",
       "    }\n",
       "</style>\n",
       "<table border=\"1\" class=\"dataframe\">\n",
       "  <thead>\n",
       "    <tr style=\"text-align: right;\">\n",
       "      <th></th>\n",
       "      <th>canId</th>\n",
       "      <th>dlc</th>\n",
       "      <th>data0</th>\n",
       "      <th>data1</th>\n",
       "      <th>data2</th>\n",
       "      <th>data3</th>\n",
       "      <th>data4</th>\n",
       "      <th>data5</th>\n",
       "      <th>data6</th>\n",
       "      <th>data7</th>\n",
       "    </tr>\n",
       "  </thead>\n",
       "  <tbody>\n",
       "    <tr>\n",
       "      <th>0</th>\n",
       "      <td>02C0</td>\n",
       "      <td>8</td>\n",
       "      <td>14</td>\n",
       "      <td>00</td>\n",
       "      <td>00</td>\n",
       "      <td>00</td>\n",
       "      <td>00</td>\n",
       "      <td>00</td>\n",
       "      <td>00</td>\n",
       "      <td>00</td>\n",
       "    </tr>\n",
       "    <tr>\n",
       "      <th>1</th>\n",
       "      <td>0002</td>\n",
       "      <td>8</td>\n",
       "      <td>00</td>\n",
       "      <td>00</td>\n",
       "      <td>00</td>\n",
       "      <td>00</td>\n",
       "      <td>00</td>\n",
       "      <td>03</td>\n",
       "      <td>0B</td>\n",
       "      <td>11</td>\n",
       "    </tr>\n",
       "    <tr>\n",
       "      <th>2</th>\n",
       "      <td>0153</td>\n",
       "      <td>8</td>\n",
       "      <td>00</td>\n",
       "      <td>21</td>\n",
       "      <td>10</td>\n",
       "      <td>FF</td>\n",
       "      <td>00</td>\n",
       "      <td>FF</td>\n",
       "      <td>00</td>\n",
       "      <td>00</td>\n",
       "    </tr>\n",
       "    <tr>\n",
       "      <th>3</th>\n",
       "      <td>043F</td>\n",
       "      <td>8</td>\n",
       "      <td>10</td>\n",
       "      <td>40</td>\n",
       "      <td>60</td>\n",
       "      <td>FF</td>\n",
       "      <td>5A</td>\n",
       "      <td>87</td>\n",
       "      <td>08</td>\n",
       "      <td>00</td>\n",
       "    </tr>\n",
       "    <tr>\n",
       "      <th>4</th>\n",
       "      <td>0370</td>\n",
       "      <td>8</td>\n",
       "      <td>00</td>\n",
       "      <td>20</td>\n",
       "      <td>00</td>\n",
       "      <td>00</td>\n",
       "      <td>00</td>\n",
       "      <td>00</td>\n",
       "      <td>00</td>\n",
       "      <td>00</td>\n",
       "    </tr>\n",
       "  </tbody>\n",
       "</table>\n",
       "</div>"
      ],
      "text/plain": [
       "  canId  dlc data0 data1 data2 data3 data4 data5 data6 data7\n",
       "0  02C0    8    14    00    00    00    00    00    00    00\n",
       "1  0002    8    00    00    00    00    00    03    0B    11\n",
       "2  0153    8    00    21    10    FF    00    FF    00    00\n",
       "3  043F    8    10    40    60    FF    5A    87    08    00\n",
       "4  0370    8    00    20    00    00    00    00    00    00"
      ]
     },
     "execution_count": 281,
     "metadata": {},
     "output_type": "execute_result"
    }
   ],
   "source": [
    "X_sonata.head()"
   ]
  },
  {
   "cell_type": "code",
   "execution_count": 282,
   "metadata": {},
   "outputs": [
    {
     "data": {
      "text/plain": [
       "0    R\n",
       "1    R\n",
       "2    R\n",
       "3    R\n",
       "4    R\n",
       "Name: flag, dtype: object"
      ]
     },
     "execution_count": 282,
     "metadata": {},
     "output_type": "execute_result"
    }
   ],
   "source": [
    "y_sonata.head()"
   ]
  },
  {
   "cell_type": "code",
   "execution_count": 283,
   "metadata": {},
   "outputs": [
    {
     "name": "stdout",
     "output_type": "stream",
     "text": [
      "canId    object\n",
      "dlc       int64\n",
      "data0    object\n",
      "data1    object\n",
      "data2    object\n",
      "data3    object\n",
      "data4    object\n",
      "data5    object\n",
      "data6    object\n",
      "data7    object\n",
      "dtype: object\n"
     ]
    }
   ],
   "source": [
    "print(X_sonata.dtypes)"
   ]
  },
  {
   "cell_type": "code",
   "execution_count": 284,
   "metadata": {},
   "outputs": [],
   "source": [
    "def preprocess_hex_values(data):\n",
    "    for col in data.columns:\n",
    "        if col.startswith('data') or col == 'canId':\n",
    "            data[col] = data[col].apply(lambda x: int(x, 16))\n",
    "    return data\n",
    "\n",
    "X_sonata = preprocess_hex_values(X_sonata)"
   ]
  },
  {
   "cell_type": "code",
   "execution_count": 285,
   "metadata": {},
   "outputs": [],
   "source": [
    "label_encoder = LabelEncoder()\n",
    "y_sonata = label_encoder.fit_transform(y_sonata)\n",
    "y_soul = label_encoder.fit_transform(y_soul)\n",
    "y_spark = label_encoder.fit_transform(y_spark)"
   ]
  },
  {
   "cell_type": "code",
   "execution_count": 286,
   "metadata": {},
   "outputs": [],
   "source": [
    "X_train_sonata, X_test_sonata, y_train_sonata, y_test_sonata = train_test_split(X_sonata, y_sonata, test_size=0.2, random_state=42)\n",
    "\n",
    "\n",
    "class CanBusDataset(Dataset):\n",
    "    def __init__(self, X, y):\n",
    "        self.X = X.values if isinstance(X, pd.DataFrame) else np.array(X)\n",
    "        self.y = y.values if isinstance(y, pd.Series) else np.array(y)\n",
    "        \n",
    "    def __len__(self):\n",
    "        return len(self.X)\n",
    "    \n",
    "    def __getitem__(self, idx):\n",
    "        X_values = self.X[idx].astype(np.float32)\n",
    "        y_values = self.y[idx].astype(np.float32)\n",
    "        return torch.tensor(X_values), torch.tensor(y_values)\n",
    "    \n",
    "\n",
    "train_dataset_sonata = CanBusDataset(X_train_sonata, y_train_sonata)\n",
    "test_dataset_sonata = CanBusDataset(X_test_sonata, y_test_sonata)\n",
    "\n",
    "train_loader_sonata = DataLoader(train_dataset_sonata, batch_size=512, shuffle=True)\n",
    "test_loader_sonata = DataLoader(test_dataset_sonata, batch_size=512, shuffle=False)\n"
   ]
  },
  {
   "cell_type": "code",
   "execution_count": 307,
   "metadata": {},
   "outputs": [
    {
     "name": "stdout",
     "output_type": "stream",
     "text": [
      "Datas shape: torch.Size([512, 10])\n",
      "Labels shape: torch.Size([512])\n"
     ]
    }
   ],
   "source": [
    "for idx, data in enumerate(train_loader_sonata):\n",
    "    datas = data[0]\n",
    "    labels = data[1]\n",
    "    print(\"Datas shape:\", datas.shape)\n",
    "    print(\"Labels shape:\", labels.shape)\n",
    "    break"
   ]
  },
  {
   "cell_type": "code",
   "execution_count": 309,
   "metadata": {},
   "outputs": [
    {
     "data": {
      "text/plain": [
       "(428032, 107009)"
      ]
     },
     "execution_count": 309,
     "metadata": {},
     "output_type": "execute_result"
    }
   ],
   "source": [
    "len(train_dataset_sonata), len(test_dataset_sonata)"
   ]
  },
  {
   "cell_type": "code",
   "execution_count": 335,
   "metadata": {},
   "outputs": [],
   "source": [
    "class MyNeuralNetwork(nn.Module):\n",
    "    def __init__(self, input_size, hidden_size, output_size, num_layers):\n",
    "        super(MyNeuralNetwork, self).__init__()\n",
    "        self.hidden_size = hidden_size\n",
    "        self.num_layers = num_layers\n",
    "        self.lstm = nn.LSTM(input_size, hidden_size, num_layers=num_layers, batch_first=True)\n",
    "        self.fc = nn.Linear(hidden_size, output_size)\n",
    "        self.activation = nn.Sigmoid()\n",
    "\n",
    "        print()\n",
    "\n",
    "    def forward(self, X):\n",
    "        if len(X.shape) == 2:  # Shape [batch_size, input_size]\n",
    "            X = X.unsqueeze(1)  # Add a sequence dimension -> [batch_size, 1, input_size]\n",
    "        batch_size = X.size(0)\n",
    "        print(\"Batch size:\", batch_size)\n",
    "        print(\"X shape:\", X.shape)\n",
    "        hidden = torch.zeros(self.num_layers, batch_size, self.hidden_size)\n",
    "        carry = torch.zeros(self.num_layers, batch_size, self.hidden_size)\n",
    "        print(\"Hidden shape:\", hidden.shape)\n",
    "        print(\"Carry shape:\", carry.shape)\n",
    "        output, (hidden, carry) = self.lstm(X, (hidden, carry))\n",
    "        output = self.fc(output[:, -1])\n",
    "        return self.activation(output)\n",
    "\n",
    "    def fit(self, train_dataloader, test_dataloader, epochs, optimizer, loss_function):\n",
    "        train_losses = []\n",
    "        test_losses = []\n",
    "\n",
    "        for epoch in range(epochs):\n",
    "            self.train()\n",
    "            train_loss = 0.0\n",
    "            for X_batch, y_batch in train_dataloader:\n",
    "                print(X_batch.shape)\n",
    "                optimizer.zero_grad()\n",
    "                y_pred = self.forward(X_batch).squeeze()\n",
    "                y_batch = y_batch.float().squeeze()\n",
    "                loss = loss_function(y_pred, y_batch)\n",
    "                loss.backward()\n",
    "                optimizer.step()\n",
    "                train_loss += loss.item()\n",
    "            train_losses.append(train_loss / len(train_dataloader))\n",
    "\n",
    "            self.eval()\n",
    "            test_loss = 0.0\n",
    "            with torch.no_grad():\n",
    "                for X_batch, y_batch in test_dataloader:\n",
    "                    y_pred = self.forward(X_batch).squeeze()\n",
    "                    y_batch = y_batch.float().squeeze()\n",
    "                    loss = loss_function(y_pred, y_batch)\n",
    "                    test_loss += loss.item()\n",
    "            test_losses.append(test_loss / len(test_dataloader))\n",
    "\n",
    "            print(f\"Epoch {epoch+1}/{epochs} - Train Loss: {train_losses[-1]:.4f}, Test Loss: {test_losses[-1]:.4f}\")\n",
    "\n",
    "        return train_losses, test_losses\n",
    "\n",
    "    def predict(self, dataloader):\n",
    "        all_outputs = []\n",
    "        self.eval()\n",
    "        with torch.no_grad():\n",
    "            for X_batch, _ in dataloader:\n",
    "                outputs = self.forward(X_batch)\n",
    "                predicted = (outputs > 0.5).float()\n",
    "                all_outputs.extend(predicted.numpy())\n",
    "        return np.array(all_outputs)\n"
   ]
  },
  {
   "cell_type": "code",
   "execution_count": 288,
   "metadata": {},
   "outputs": [],
   "source": [
    "def verify_parameters(y_test, y_pred_tab, parameters):\n",
    "    results = pd.DataFrame(columns=['Accuracy', 'Precision', 'Recall', 'F1 Score'])\n",
    "    for i in range(len(parameters)):\n",
    "        accuracy_score_test = accuracy_score(y_test, y_pred_tab[i])\n",
    "        precision_score_test = precision_score(y_test, y_pred_tab[i], average='macro')\n",
    "        recall_score_test = recall_score(y_test, y_pred_tab[i], average='macro')\n",
    "        f1_score_test = f1_score(y_test, y_pred_tab[i], average='macro')\n",
    "        results.loc[str(parameters[i])] = [accuracy_score_test, precision_score_test, recall_score_test, f1_score_test]\n",
    "\n",
    "    return results"
   ]
  },
  {
   "cell_type": "code",
   "execution_count": 289,
   "metadata": {},
   "outputs": [],
   "source": [
    "def losses_chart(train_losses, test_losses, title):\n",
    "    plt.figure(figsize=(6, 4))\n",
    "    plt.ylim(0, 2)\n",
    "    plt.plot(train_losses, label='Train loss')\n",
    "    plt.plot(test_losses, label='Test loss')\n",
    "    plt.title(title)\n",
    "    plt.xlabel('Epoch')\n",
    "    plt.ylabel('Loss')\n",
    "    plt.legend()\n",
    "    plt.show()"
   ]
  },
  {
   "cell_type": "code",
   "execution_count": 290,
   "metadata": {},
   "outputs": [
    {
     "data": {
      "text/plain": [
       "10"
      ]
     },
     "execution_count": 290,
     "metadata": {},
     "output_type": "execute_result"
    }
   ],
   "source": [
    "input_size = X_train_sonata.shape[1]\n",
    "input_size\n"
   ]
  },
  {
   "cell_type": "code",
   "execution_count": null,
   "metadata": {},
   "outputs": [],
   "source": [
    "lstm = MyNeuralNetwork(input_size=10, hidden_size=512, output_size=1, num_layers=1)\n",
    "loss = lstm.fit(train_loader_sonata, test_loader_sonata, 10, optim.Adam(lstm.parameters(), lr=0.0001), nn.BCELoss())\n",
    "predictions = lstm.predict(test_loader_sonata)\n",
    "accuracy_score_test = accuracy_score(y_test_sonata, predictions)"
   ]
  }
 ],
 "metadata": {
  "kernelspec": {
   "display_name": "base",
   "language": "python",
   "name": "python3"
  },
  "language_info": {
   "codemirror_mode": {
    "name": "ipython",
    "version": 3
   },
   "file_extension": ".py",
   "mimetype": "text/x-python",
   "name": "python",
   "nbconvert_exporter": "python",
   "pygments_lexer": "ipython3",
   "version": "3.12.4"
  }
 },
 "nbformat": 4,
 "nbformat_minor": 2
}
